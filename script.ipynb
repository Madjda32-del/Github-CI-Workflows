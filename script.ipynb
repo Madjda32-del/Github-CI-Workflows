{
 "cells": [
  {
   "cell_type": "code",
   "execution_count": 27,
   "id": "16e7fc80-6ff0-4ea5-ab22-c5b539e6c193",
   "metadata": {},
   "outputs": [],
   "source": [
    "import pandas as pd\n",
    "import requests\n",
    "import base64\n",
    "import json\n",
    "import time"
   ]
  },
  {
   "cell_type": "code",
   "execution_count": 28,
   "id": "6d1cd564-af3d-4adb-bfe4-5a166be0766b",
   "metadata": {},
   "outputs": [],
   "source": [
    "import os\n",
    "GITHUB_TOKEN = os.getenv(\"GITHUB_TOKEN\")\n",
    "headers = {\"Authorization\": f\"token {GITHUB_TOKEN}\"}"
   ]
  },
  {
   "cell_type": "markdown",
   "id": "ecde4ac6-9e1d-4ef1-bb1d-4f632092d63b",
   "metadata": {},
   "source": [
    "for authenticated requests to the GitHub API"
   ]
  },
  {
   "cell_type": "code",
   "execution_count": 29,
   "id": "dc1e9dd9-bf26-40eb-8360-d2fa015ca959",
   "metadata": {},
   "outputs": [
    {
     "name": "stdout",
     "output_type": "stream",
     "text": [
      "(1528056, 17)\n"
     ]
    }
   ],
   "source": [
    "df = pd.read_csv(\"uid_workflows.csv\")\n",
    "print(df.shape)"
   ]
  },
  {
   "cell_type": "code",
   "execution_count": 30,
   "id": "66060f8a-73a2-4a91-8ac1-05fde2be2661",
   "metadata": {},
   "outputs": [],
   "source": [
    "filtered_df = df[df['valid_workflow'] == True]\n",
    "\n",
    "relevant_columns = ['repository', 'file_path', 'commit_hash', 'valid_yaml']\n",
    "reduced_df = filtered_df[relevant_columns]\n",
    "\n",
    "sample_df = reduced_df.sample(n=200000, random_state=42)\n"
   ]
  },
  {
   "cell_type": "markdown",
   "id": "cefdff66-285d-4fdc-9965-18285f1cf697",
   "metadata": {},
   "source": [
    "keeping only key columns that i need in this project"
   ]
  },
  {
   "cell_type": "code",
   "execution_count": 31,
   "id": "89161f4f-7e60-4f5b-8890-951e989449fb",
   "metadata": {},
   "outputs": [],
   "source": [
    "#no need to run this code since we're done with processing and splitting the data\n",
    "chunk_size = 5000\n",
    "for start in range(0, sample_df.shape[0], chunk_size):\n",
    "    chunk = sample_df.iloc[start:start + chunk_size]"
   ]
  },
  {
   "cell_type": "markdown",
   "id": "cf7eb472-3bec-4edb-a81c-a978b8b70a03",
   "metadata": {},
   "source": [
    "processing the dataset in chunks for memory efficient"
   ]
  },
  {
   "cell_type": "code",
   "execution_count": 7,
   "id": "a4e5ee75-6f9c-4180-a835-2a0d2a7ee1cc",
   "metadata": {},
   "outputs": [
    {
     "name": "stdout",
     "output_type": "stream",
     "text": [
      "(195351, 4)\n"
     ]
    }
   ],
   "source": [
    "workflow_df = sample_df[sample_df['file_path'].str.contains('.github/workflows') & sample_df['valid_yaml']]\n",
    "print(workflow_df.shape)"
   ]
  },
  {
   "cell_type": "code",
   "execution_count": 32,
   "id": "1765bbfd-e1c9-4599-b0e0-c2b7f500ff94",
   "metadata": {},
   "outputs": [],
   "source": [
    "def fetch_file_content(repository, commit_hash, file_path, retries=3, delay=5):\n",
    "    url = f\"https://api.github.com/repos/{repository}/contents/{file_path}?ref={commit_hash}\"\n",
    "    for attempt in range(retries):\n",
    "        try:\n",
    "            response = requests.get(url, headers=headers)\n",
    "            if response.status_code == 200:\n",
    "                file_content = response.json().get('content')\n",
    "                if file_content:\n",
    "                    content = base64.b64decode(file_content).decode('utf-8')\n",
    "                    print(f\"Successfully fetched content for {file_path}\")\n",
    "                    return content\n",
    "            else:\n",
    "                print(f\"Failed to fetch content for {file_path}, Status Code: {response.status_code}\")\n",
    "                return None\n",
    "        except requests.exceptions.ConnectionError as e:\n",
    "            print(f\"Connection error on attempt {attempt + 1}: {e}\")\n",
    "            time.sleep(delay)  \n",
    "        except Exception as e:\n",
    "            print(f\"An unexpected error occurred: {e}\")\n",
    "            return None\n",
    "\n",
    "    print(f\"All retries failed for {file_path}\")\n",
    "    return None"
   ]
  },
  {
   "cell_type": "markdown",
   "id": "9c516f5c-ab08-488a-8275-f999a9e89cf8",
   "metadata": {},
   "source": [
    "URL construction (building a URL to access a specific file in a repository)\n",
    "implementing up to 3 retries in case of network errors or rate limits\n",
    "decoding Base64-encoded YAML content retrieved from the API"
   ]
  },
  {
   "cell_type": "code",
   "execution_count": 9,
   "id": "211f2362-898d-4739-a9cc-ae9f65998050",
   "metadata": {
    "scrolled": true
   },
   "outputs": [
    {
     "name": "stdout",
     "output_type": "stream",
     "text": [
      "Loaded existing fetched data from 'fetched_yaml_data.pkl'.\n",
      "All YAML content fetched and saved to 'fetched_yaml_data.pkl'.\n",
      "Merged fetched data with the original DataFrame.\n"
     ]
    }
   ],
   "source": [
    "#if there's already data in the file\n",
    "try:\n",
    "    fetched_data = pd.read_pickle('fetched_yaml_data.pkl')\n",
    "    print(\"Loaded existing fetched data from 'fetched_yaml_data.pkl'.\")\n",
    "except FileNotFoundError:\n",
    "    #in case there's no fetched data\n",
    "    fetched_data = pd.DataFrame(columns=['repository', 'commit_hash', 'file_path', 'yaml_content'])\n",
    "    print(\"Starting fresh. No previous progress will be loaded.\")\n",
    "\n",
    "total_files = len(workflow_df)\n",
    "\n",
    "for index, row in workflow_df.iterrows():\n",
    "    # Skip if content has already been fetched\n",
    "    if not ((fetched_data['repository'] == row['repository']) &\n",
    "            (fetched_data['commit_hash'] == row['commit_hash']) &\n",
    "            (fetched_data['file_path'] == row['file_path'])).any():\n",
    "\n",
    "        yaml_content = fetch_file_content(row['repository'], row['commit_hash'], row['file_path'])\n",
    "\n",
    "        fetched_data = pd.concat([fetched_data, pd.DataFrame({\n",
    "            'repository': [row['repository']],\n",
    "            'commit_hash': [row['commit_hash']],\n",
    "            'file_path': [row['file_path']],\n",
    "            'yaml_content': [yaml_content]\n",
    "        })], ignore_index=True)\n",
    "\n",
    "        #for the saving progress\n",
    "        if len(fetched_data) % 100 == 0:\n",
    "            fetched_data.to_pickle('fetched_yaml_data.pkl')\n",
    "            print(f\"Progress saved. {len(fetched_data)}/{total_files} files processed.\")\n",
    "\n",
    "fetched_data.to_pickle('fetched_yaml_data.pkl')\n",
    "print(\"All YAML content fetched and saved to 'fetched_yaml_data.pkl'.\")\n",
    "\n",
    "#merge the data to the original dataset\n",
    "workflow_df = workflow_df.merge(fetched_data, on=['repository', 'commit_hash', 'file_path'], how='left')\n",
    "print(\"Merged fetched data with the original DataFrame.\")\n"
   ]
  },
  {
   "cell_type": "code",
   "execution_count": 33,
   "id": "a0f04d2e-82a1-41a5-b4ac-22125cdad4a2",
   "metadata": {},
   "outputs": [
    {
     "name": "stdout",
     "output_type": "stream",
     "text": [
      "Index(['repository', 'file_path', 'commit_hash', 'valid_yaml', 'yaml_content'], dtype='object')\n"
     ]
    }
   ],
   "source": [
    "print(workflow_df.columns)"
   ]
  },
  {
   "cell_type": "markdown",
   "id": "7643f12c-7261-494b-9fd5-d195ffaf2e41",
   "metadata": {},
   "source": [
    "as we can see the yaml_content is succesully added to the dataset containing the fecthed data"
   ]
  },
  {
   "cell_type": "code",
   "execution_count": 12,
   "id": "83b34d74-d189-418a-86a3-a5af04491d3f",
   "metadata": {},
   "outputs": [],
   "source": [
    "workflow_df.to_csv(\"workflow.csv\", index=False)"
   ]
  },
  {
   "cell_type": "code",
   "execution_count": 34,
   "id": "0efd9af1-221b-4ecc-b0cb-d511cc990f68",
   "metadata": {},
   "outputs": [],
   "source": [
    "#for identifying missing data\n",
    "missing_entries = workflow_df[workflow_df['yaml_content'].isna()]"
   ]
  },
  {
   "cell_type": "code",
   "execution_count": 35,
   "id": "0846cb16-086d-4ae2-bf6f-831e298819de",
   "metadata": {},
   "outputs": [
    {
     "name": "stdout",
     "output_type": "stream",
     "text": [
      "Number of missing yaml_content entries: 0\n"
     ]
    }
   ],
   "source": [
    "missing_content_count = workflow_df['yaml_content'].isna().sum()\n",
    "print(f\"Number of missing yaml_content entries: {missing_content_count}\")"
   ]
  },
  {
   "cell_type": "code",
   "execution_count": null,
   "id": "c0927e01-b611-4a7a-96b1-722896d2ba52",
   "metadata": {
    "scrolled": true
   },
   "outputs": [],
   "source": [
    "#no need to run this script since the missing value is 0 \n",
    "for index, row in missing_entries.iterrows():\n",
    "    yaml_content = fetch_file_content(row['repository'], row['commit_hash'], row['file_path'])\n",
    "    workflow_df.at[index, 'yaml_content'] = yaml_content"
   ]
  },
  {
   "cell_type": "code",
   "execution_count": 36,
   "id": "54657d56-5b9c-4e6c-904d-babc28200743",
   "metadata": {},
   "outputs": [
    {
     "name": "stdout",
     "output_type": "stream",
     "text": [
      "Number of missing yaml_content entries: 0\n"
     ]
    }
   ],
   "source": [
    "#re-check the number of the missing values \n",
    "missing_content_count = workflow_df['yaml_content'].isna().sum()\n",
    "print(f\"Number of missing yaml_content entries: {missing_content_count}\")"
   ]
  },
  {
   "cell_type": "code",
   "execution_count": 37,
   "id": "fc6ff092-90cd-43fd-9d7d-db965974ec2e",
   "metadata": {},
   "outputs": [],
   "source": [
    "workflow_df.to_csv(\"workflow.csv\", index=False)"
   ]
  },
  {
   "cell_type": "code",
   "execution_count": 23,
   "id": "d9ccb436-49c3-41a8-ac38-b7ab86cfd359",
   "metadata": {},
   "outputs": [],
   "source": [
    "#remove the failed to fetch data \n",
    "workflow_df = workflow_df.dropna(subset=['yaml_content'])"
   ]
  },
  {
   "cell_type": "code",
   "execution_count": 38,
   "id": "94e1c093-7d34-4d2f-8c64-86cd5b97cc0b",
   "metadata": {},
   "outputs": [
    {
     "name": "stdout",
     "output_type": "stream",
     "text": [
      "valid_yaml_content\n",
      "True     128331\n",
      "False         4\n",
      "Name: count, dtype: int64\n"
     ]
    }
   ],
   "source": [
    "import yaml\n",
    "\n",
    "def is_valid_yaml(content):\n",
    "    try:\n",
    "        yaml.safe_load(content)\n",
    "        return True\n",
    "    except yaml.YAMLError:\n",
    "        return False\n",
    "\n",
    "workflow_df['valid_yaml_content'] = workflow_df['yaml_content'].apply(is_valid_yaml)\n",
    "print(workflow_df['valid_yaml_content'].value_counts())"
   ]
  },
  {
   "cell_type": "markdown",
   "id": "2fb5c022-f7ef-46c3-95d2-78f9d0ec07ca",
   "metadata": {},
   "source": [
    "making sure that yaml_content column contains properly structured YAML data"
   ]
  },
  {
   "cell_type": "code",
   "execution_count": 39,
   "id": "32fa8fc4-c5ba-48f6-a483-ea3573dc16cd",
   "metadata": {},
   "outputs": [],
   "source": [
    "import yaml\n",
    "\n",
    "def preprocess_yaml(content):\n",
    "    if content:\n",
    "        #handling the \\t syntax error\n",
    "        content = content.replace('\\t', '    ')  \n",
    "        return yaml.safe_load(content)\n",
    "    return None\n",
    "\n",
    "workflow_df['parsed_yaml'] = workflow_df['yaml_content'].apply(preprocess_yaml)"
   ]
  },
  {
   "cell_type": "code",
   "execution_count": 40,
   "id": "be29a667-71e5-47f0-aaf3-03c9c5c9de3a",
   "metadata": {},
   "outputs": [],
   "source": [
    "def extract_trigger_events(yaml_data):\n",
    "    if isinstance(yaml_data, dict):\n",
    "        #trying to access the on \n",
    "        if 'on' in yaml_data:\n",
    "            return yaml_data['on']\n",
    "        #else trying to access True key \n",
    "        elif True in yaml_data:\n",
    "            return yaml_data[True]\n",
    "    return None\n",
    "\n",
    "workflow_df['trigger_events'] = workflow_df['parsed_yaml'].apply(extract_trigger_events)"
   ]
  },
  {
   "cell_type": "code",
   "execution_count": 41,
   "id": "b98e4879-fc24-4af5-a612-133f1048f252",
   "metadata": {},
   "outputs": [
    {
     "name": "stdout",
     "output_type": "stream",
     "text": [
      "Index(['repository', 'file_path', 'commit_hash', 'valid_yaml', 'yaml_content',\n",
      "       'valid_yaml_content', 'parsed_yaml', 'trigger_events'],\n",
      "      dtype='object')\n"
     ]
    }
   ],
   "source": [
    "print(workflow_df.columns)"
   ]
  },
  {
   "cell_type": "markdown",
   "id": "2eabe03a-8d69-421a-9073-6f3fb8441169",
   "metadata": {},
   "source": [
    "to check that the trigger_event column is created succesfully (containing the extracted triggers)"
   ]
  },
  {
   "cell_type": "code",
   "execution_count": 43,
   "id": "2799a0e2-e32c-4dc3-9c7b-04ba33d7b7e3",
   "metadata": {},
   "outputs": [
    {
     "name": "stdout",
     "output_type": "stream",
     "text": [
      "parsed_yaml       0\n",
      "trigger_events    0\n",
      "dtype: int64\n"
     ]
    }
   ],
   "source": [
    "#to check no missing values\n",
    "print(workflow_df[['parsed_yaml', 'trigger_events']].isna().sum())"
   ]
  },
  {
   "cell_type": "code",
   "execution_count": 44,
   "id": "591c772e-49ae-4159-b278-f100af4fc403",
   "metadata": {},
   "outputs": [
    {
     "name": "stdout",
     "output_type": "stream",
     "text": [
      "trigger_events\n",
      "[push, pull_request]                                                                                                                                                                                                                                                                                                                                                                                                                                                                                                                                                                                                                                                                                                                         10056\n",
      "{'push': {'branches': ['master']}, 'pull_request': {'branches': ['master']}}                                                                                                                                                                                                                                                                                                                                                                                                                                                                                                                                                                                                                                                                  5298\n",
      "[push]                                                                                                                                                                                                                                                                                                                                                                                                                                                                                                                                                                                                                                                                                                                                        3448\n",
      "{'push': {'branches': ['master']}}                                                                                                                                                                                                                                                                                                                                                                                                                                                                                                                                                                                                                                                                                                            3190\n",
      "{'push': {'branches': ['main']}, 'pull_request': {'branches': ['main']}}                                                                                                                                                                                                                                                                                                                                                                                                                                                                                                                                                                                                                                                                      3116\n",
      "                                                                                                                                                                                                                                                                                                                                                                                                                                                                                                                                                                                                                                                                                                                                             ...  \n",
      "{'push': None, 'pull_request': None, 'workflow_dispatch': None, 'schedule': [{'cron': '0 12 * * 4'}]}                                                                                                                                                                                                                                                                                                                                                                                                                                                                                                                                                                                                                                            1\n",
      "{'workflow_dispatch': None, 'push': {'branches': ['master'], 'paths': ['binding/react-native/**', '!binding/react-native/README.md', 'lib/common/**', 'lib/android/**', 'lib/ios/**', 'resources/.test/test_data.json', 'resources/audio_samples/**', 'resources/keyword_files/android/**', 'resources/keyword_files/ios/**', '.github/workflows/react-native.yml']}, 'pull_request': {'branches': ['master', 'v[0-9]+.[0-9]+'], 'paths': ['binding/react-native/**', '!binding/react-native/README.md', 'lib/common/**', 'lib/android/**', 'lib/ios/**', 'resources/.test/test_data.json', 'resources/audio_samples/**', 'resources/keyword_files/android/**', 'resources/keyword_files/ios/**', '.github/workflows/react-native.yml']}}        1\n",
      "{'push': {'branches': ['master', '*-patch'], 'paths': ['.github/workflows/controller-build.yaml', '.github/actions/**', 'Dockerfile', 'Makefile', 'go.mod', 'go.sum', 'cmd/azure-keyvault-controller/**', 'pkg/**', '!docs/**', '!crds/**']}}                                                                                                                                                                                                                                                                                                                                                                                                                                                                                                    1\n",
      "{'push': {'branches': ['master'], 'paths': ['CHANGELOG.md']}}                                                                                                                                                                                                                                                                                                                                                                                                                                                                                                                                                                                                                                                                                    1\n",
      "{'pull_request': {'paths': ['py-polars/**', 'polars/**']}}                                                                                                                                                                                                                                                                                                                                                                                                                                                                                                                                                                                                                                                                                       1\n",
      "Name: count, Length: 29202, dtype: int64\n"
     ]
    }
   ],
   "source": [
    "#insight into the distribution of trigger events\n",
    "print(workflow_df['trigger_events'].value_counts())"
   ]
  },
  {
   "cell_type": "code",
   "execution_count": 45,
   "id": "283fb618-31b1-469e-9683-e86b62f1ed20",
   "metadata": {},
   "outputs": [],
   "source": [
    "#converting dictionaries to strings for unique value analysis\n",
    "unique_trigger_events = workflow_df['trigger_events'].apply(str).unique()"
   ]
  },
  {
   "cell_type": "code",
   "execution_count": 46,
   "id": "427b8b40-67dd-4881-8895-a85fcfa0c196",
   "metadata": {},
   "outputs": [],
   "source": [
    "event_types = ['push', 'pull_request', 'pull_request_target', 'manual', 'cron']\n",
    "\n",
    "#checking if any of the events are in the trigger events\n",
    "def contains_event_type(events):\n",
    "    if isinstance(events, (list, dict)): \n",
    "        for event in event_types:\n",
    "            if event in events:\n",
    "                return True\n",
    "    return False\n",
    "\n",
    "available_events = workflow_df['trigger_events'].apply(contains_event_type)\n",
    "\n",
    "for event in event_types:\n",
    "    event_present = workflow_df['trigger_events'].apply(lambda x: event in str(x)).any()"
   ]
  },
  {
   "cell_type": "code",
   "execution_count": 47,
   "id": "6e829950-bbe0-4be1-84db-2ade0301bed5",
   "metadata": {},
   "outputs": [],
   "source": [
    "import re\n",
    "\n",
    "#handling special characters\n",
    "cleaned_trigger_events = workflow_df['trigger_events'].astype(str).apply(\n",
    "    lambda x: x if not re.search(r'[^a-zA-Z0-9_\\s\\[\\]\\{\\}\\':,]', x) else 'Special Case'\n",
    ")\n"
   ]
  },
  {
   "cell_type": "code",
   "execution_count": 60,
   "id": "4dc03844-bbbd-4d7e-b702-5559c02f2e63",
   "metadata": {},
   "outputs": [
    {
     "data": {
      "image/png": "[encoded data removed]",
      "text/plain": [
       "<Figure size 1200x600 with 1 Axes>"
      ]
     },
     "metadata": {},
     "output_type": "display_data"
    }
   ],
   "source": [
    "import matplotlib.pyplot as plt\n",
    "\n",
    "#to visualize top 10 most frequent trigger events\n",
    "\n",
    "workflow_df['cleaned_triggers'] = workflow_df['trigger_events'].apply(\n",
    "    lambda x: ', '.join([key for key in x.keys()]) if isinstance(x, dict) else str(x)\n",
    ")\n",
    "\n",
    "trigger_event_strings = workflow_df['cleaned_triggers']\n",
    "top_trigger_events = trigger_event_strings.value_counts().nlargest(10)\n",
    "\n",
    "top_trigger_events.plot(kind='bar', figsize=(12, 6))\n",
    "plt.xticks(rotation=45, ha='right')\n",
    "plt.title(\"Top 10 Most Frequent Trigger Events\")\n",
    "plt.xlabel(\"Trigger Events\")\n",
    "plt.ylabel(\"Frequency\")\n",
    "plt.show()\n"
   ]
  },
  {
   "cell_type": "code",
   "execution_count": 51,
   "id": "45ecb6b9-6778-447e-bdaf-ec8263e3a53b",
   "metadata": {},
   "outputs": [],
   "source": [
    "#boolean columns for each trigger event\n",
    "workflow_df['has_push_event'] = workflow_df['trigger_events'].astype(str).apply(lambda x: 'push' in x)\n",
    "workflow_df['has_pull_request_event'] = workflow_df['trigger_events'].astype(str).apply(lambda x: 'pull_request' in x)\n",
    "workflow_df['has_pull_request_target_event'] = workflow_df['trigger_events'].astype(str).apply(lambda x: 'pull_request_target' in x)\n",
    "workflow_df['has_manual_event'] = workflow_df['trigger_events'].astype(str).apply(lambda x: 'workflow_dispatch' in x)\n",
    "workflow_df['has_cron_event'] = workflow_df['trigger_events'].astype(str).apply(lambda x: 'schedule' in x or 'cron' in x)"
   ]
  },
  {
   "cell_type": "code",
   "execution_count": 52,
   "id": "ece55512-f26f-4416-a38a-4574c05299eb",
   "metadata": {},
   "outputs": [
    {
     "name": "stdout",
     "output_type": "stream",
     "text": [
      "Index(['repository', 'file_path', 'commit_hash', 'valid_yaml', 'yaml_content',\n",
      "       'valid_yaml_content', 'parsed_yaml', 'trigger_events', 'has_push_event',\n",
      "       'has_pull_request_event', 'has_pull_request_target_event',\n",
      "       'has_manual_event', 'has_cron_event'],\n",
      "      dtype='object')\n"
     ]
    }
   ],
   "source": [
    "print(workflow_df.columns)"
   ]
  },
  {
   "cell_type": "markdown",
   "id": "a9f32e9b-57f6-49a6-863c-683b9be2a96d",
   "metadata": {},
   "source": [
    "to check if the event either the event exists in the worflow or not (just for better insight)"
   ]
  },
  {
   "cell_type": "code",
   "execution_count": 53,
   "id": "3b060c65-cc86-4ca6-aac5-4526b2fef01a",
   "metadata": {},
   "outputs": [
    {
     "name": "stdout",
     "output_type": "stream",
     "text": [
      "Number of unique repositories: 22938\n"
     ]
    }
   ],
   "source": [
    "#number repositories\n",
    "num_repositories = workflow_df['repository'].nunique()\n",
    "print(f\"Number of unique repositories: {num_repositories}\")"
   ]
  },
  {
   "cell_type": "code",
   "execution_count": 54,
   "id": "b2fc991a-e72b-424c-99fb-617b5d8eb870",
   "metadata": {},
   "outputs": [
    {
     "name": "stdout",
     "output_type": "stream",
     "text": [
      "Number of workflows: 128335\n"
     ]
    }
   ],
   "source": [
    "#number of workflows\n",
    "num_workflows = workflow_df.shape[0]\n",
    "print(f\"Number of workflows: {num_workflows}\")\n"
   ]
  },
  {
   "cell_type": "code",
   "execution_count": 55,
   "id": "1a0481a3-aa5a-4622-83ed-7d3c8d8d6fbc",
   "metadata": {},
   "outputs": [],
   "source": [
    "def analyze_repositories(workflow_df):\n",
    "    #event occurrences (group by repository)\n",
    "    event_summary = workflow_df.groupby('repository').agg({\n",
    "        'has_push_event': 'any',\n",
    "        'has_pull_request_event': 'any',\n",
    "        'has_cron_event': 'any',\n",
    "        'has_manual_event': 'any',\n",
    "        'has_pull_request_target_event': 'any'\n",
    "    }).reset_index()\n",
    "\n",
    "    total_repositories = event_summary.shape[0]\n",
    "\n",
    "    event_counts = {\n",
    "        'push': event_summary['has_push_event'].sum(),\n",
    "        'pull_request': event_summary['has_pull_request_event'].sum(),\n",
    "        'cron': event_summary['has_cron_event'].sum(),\n",
    "        'manual': event_summary['has_manual_event'].sum(),\n",
    "        'pull_request_target': event_summary['has_pull_request_target_event'].sum()\n",
    "    }\n",
    "\n",
    "    event_percentages = {\n",
    "        event: (count / total_repositories) * 100 for event, count in event_counts.items()\n",
    "    }\n",
    "\n",
    "    return event_counts, event_percentages, total_repositories\n"
   ]
  },
  {
   "cell_type": "code",
   "execution_count": 56,
   "id": "a35caf9d-78d9-4332-ac6f-78772284485f",
   "metadata": {},
   "outputs": [],
   "source": [
    "def analyze_workflows(workflow_df):\n",
    "    #occurrences of each event in workflows\n",
    "    workflow_counts = {\n",
    "        'push': workflow_df['trigger_events'].astype(str).str.contains('push').sum(),\n",
    "        'pull_request': workflow_df['trigger_events'].astype(str).str.contains('pull_request').sum(),\n",
    "        'cron': workflow_df['trigger_events'].astype(str).str.contains('cron').sum(),\n",
    "        'manual': workflow_df['trigger_events'].astype(str).str.contains('manual').sum(),\n",
    "        'pull_request_target': workflow_df['trigger_events'].astype(str).str.contains('pull_request_target').sum()\n",
    "    }\n",
    "\n",
    "    total_workflows = workflow_df.shape[0]\n",
    "\n",
    "    workflow_percentages = {\n",
    "        event: (count / total_workflows) * 100 for event, count in workflow_counts.items()\n",
    "    }\n",
    "\n",
    "    return workflow_counts, workflow_percentages, total_workflows\n"
   ]
  },
  {
   "cell_type": "code",
   "execution_count": 57,
   "id": "e9c373ba-02d9-40d0-90e8-e491757fe6f3",
   "metadata": {},
   "outputs": [],
   "source": [
    "def plot_results_table(event_counts, event_percentages, workflow_counts, workflow_percentages):\n",
    "    import matplotlib.pyplot as plt\n",
    "    import pandas as pd\n",
    "\n",
    "    #creating a dataframe for the table \n",
    "    table_data = pd.DataFrame({\n",
    "        'Trigger Events': event_counts.keys(),\n",
    "        'Repositories (%)': [f\"{count} ({event_percentages[event]:.1f}%)\" for event, count in event_counts.items()],\n",
    "        'Workflows (%)': [f\"{count} ({workflow_percentages[event]:.1f}%)\" for event, count in workflow_counts.items()]\n",
    "    })\n",
    "\n",
    "    fig, ax = plt.subplots(figsize=(10, 2))\n",
    "    ax.axis('tight')\n",
    "    ax.axis('off')\n",
    "    table = ax.table(cellText=table_data.values, colLabels=table_data.columns, cellLoc='center', loc='center')\n",
    "    plt.show()\n",
    "\n",
    "    return table_data\n"
   ]
  },
  {
   "cell_type": "code",
   "execution_count": 58,
   "id": "59e57d5d-9bf8-447b-9f0c-44494f5ce8df",
   "metadata": {},
   "outputs": [],
   "source": [
    "def main(workflow_df):\n",
    "    event_counts_repo, event_percentages_repo, total_repositories = analyze_repositories(workflow_df)\n",
    "    event_counts_workflow, event_percentages_workflow, total_workflows = analyze_workflows(workflow_df)\n",
    "\n",
    "    table_data = plot_results_table(\n",
    "        event_counts_repo,\n",
    "        event_percentages_repo,\n",
    "        event_counts_workflow,\n",
    "        event_percentages_workflow\n",
    "    )\n",
    "\n",
    "    return table_data\n"
   ]
  },
  {
   "cell_type": "code",
   "execution_count": 59,
   "id": "4e670495-5dad-4f63-8903-71af4092254a",
   "metadata": {},
   "outputs": [
    {
     "data": {
      "image/png": "[encoded data removed]",
      "text/plain": [
       "<Figure size 1000x200 with 1 Axes>"
      ]
     },
     "metadata": {},
     "output_type": "display_data"
    }
   ],
   "source": [
    "table_data = main(workflow_df)\n"
   ]
  },
  {
   "cell_type": "code",
   "execution_count": null,
   "id": "62c56ee0-90de-4abc-9509-e56480a5cc9d",
   "metadata": {},
   "outputs": [],
   "source": []
  }
 ],
 "metadata": {
  "kernelspec": {
   "display_name": "Python 3 (ipykernel)",
   "language": "python",
   "name": "python3"
  },
  "language_info": {
   "codemirror_mode": {
    "name": "ipython",
    "version": 3
   },
   "file_extension": ".py",
   "mimetype": "text/x-python",
   "name": "python",
   "nbconvert_exporter": "python",
   "pygments_lexer": "ipython3",
   "version": "3.11.3"
  }
 },
 "nbformat": 4,
 "nbformat_minor": 5
}
